{
 "cells": [
  {
   "cell_type": "code",
   "execution_count": 9,
   "metadata": {},
   "outputs": [
    {
     "name": "stdout",
     "output_type": "stream",
     "text": [
      "\u001b[32;1m\u001b[1;3m[llm/start]\u001b[0m \u001b[1m[1:llm:ChatOpenAI] Entering LLM run with input:\n",
      "\u001b[0m{\n",
      "  \"prompts\": [\n",
      "    \"Human: How do you make italian pasta\"\n",
      "  ]\n",
      "}\n",
      "\u001b[36;1m\u001b[1;3m[llm/end]\u001b[0m \u001b[1m[1:llm:ChatOpenAI] [5.50s] Exiting LLM run with output:\n",
      "\u001b[0m{\n",
      "  \"generations\": [\n",
      "    [\n",
      "      {\n",
      "        \"text\": \"Here is a basic recipe for making Italian pasta:\\n\\nIngredients:\\n- 2 cups of all-purpose flour\\n- 2 large eggs\\n- Pinch of salt\\n\\nInstructions:\\n1. On a clean work surface, pour the flour and create a well in the center.\\n2. Crack the eggs into the well and add a pinch of salt.\\n3. Using a fork, gradually mix the eggs into the flour, starting from the center and working your way outwards.\\n4. Once the dough starts to come together, use your hands to knead it into a smooth, elastic ball. If the dough is too dry, you can add a few drops of water. If it's too wet, add a little more flour.\\n5. Once the dough is smooth, wrap it in plastic wrap and let it rest for at least 30 minutes at room temperature.\\n6. After resting, roll out the dough using a pasta machine or a rolling pin until it is thin and smooth.\\n7. Cut the dough into your desired shape, such as fettuccine, spaghetti, or ravioli.\\n8. Cook the pasta in a large pot of boiling salted water for 2-4 minutes, or until al dente.\\n9. Drain the pasta and toss with your favorite sauce and toppings.\\n\\nEnjoy your homemade Italian pasta!\",\n",
      "        \"generation_info\": {\n",
      "          \"finish_reason\": \"stop\"\n",
      "        },\n",
      "        \"type\": \"ChatGeneration\",\n",
      "        \"message\": {\n",
      "          \"lc\": 1,\n",
      "          \"type\": \"constructor\",\n",
      "          \"id\": [\n",
      "            \"langchain\",\n",
      "            \"schema\",\n",
      "            \"messages\",\n",
      "            \"AIMessage\"\n",
      "          ],\n",
      "          \"kwargs\": {\n",
      "            \"content\": \"Here is a basic recipe for making Italian pasta:\\n\\nIngredients:\\n- 2 cups of all-purpose flour\\n- 2 large eggs\\n- Pinch of salt\\n\\nInstructions:\\n1. On a clean work surface, pour the flour and create a well in the center.\\n2. Crack the eggs into the well and add a pinch of salt.\\n3. Using a fork, gradually mix the eggs into the flour, starting from the center and working your way outwards.\\n4. Once the dough starts to come together, use your hands to knead it into a smooth, elastic ball. If the dough is too dry, you can add a few drops of water. If it's too wet, add a little more flour.\\n5. Once the dough is smooth, wrap it in plastic wrap and let it rest for at least 30 minutes at room temperature.\\n6. After resting, roll out the dough using a pasta machine or a rolling pin until it is thin and smooth.\\n7. Cut the dough into your desired shape, such as fettuccine, spaghetti, or ravioli.\\n8. Cook the pasta in a large pot of boiling salted water for 2-4 minutes, or until al dente.\\n9. Drain the pasta and toss with your favorite sauce and toppings.\\n\\nEnjoy your homemade Italian pasta!\",\n",
      "            \"additional_kwargs\": {}\n",
      "          }\n",
      "        }\n",
      "      }\n",
      "    ]\n",
      "  ],\n",
      "  \"llm_output\": {\n",
      "    \"token_usage\": {\n",
      "      \"prompt_tokens\": 13,\n",
      "      \"completion_tokens\": 268,\n",
      "      \"total_tokens\": 281\n",
      "    },\n",
      "    \"model_name\": \"gpt-3.5-turbo-1106\",\n",
      "    \"system_fingerprint\": \"fp_eeff13170a\"\n",
      "  },\n",
      "  \"run\": null\n",
      "}\n"
     ]
    },
    {
     "data": {
      "text/plain": [
       "\"Here is a basic recipe for making Italian pasta:\\n\\nIngredients:\\n- 2 cups of all-purpose flour\\n- 2 large eggs\\n- Pinch of salt\\n\\nInstructions:\\n1. On a clean work surface, pour the flour and create a well in the center.\\n2. Crack the eggs into the well and add a pinch of salt.\\n3. Using a fork, gradually mix the eggs into the flour, starting from the center and working your way outwards.\\n4. Once the dough starts to come together, use your hands to knead it into a smooth, elastic ball. If the dough is too dry, you can add a few drops of water. If it's too wet, add a little more flour.\\n5. Once the dough is smooth, wrap it in plastic wrap and let it rest for at least 30 minutes at room temperature.\\n6. After resting, roll out the dough using a pasta machine or a rolling pin until it is thin and smooth.\\n7. Cut the dough into your desired shape, such as fettuccine, spaghetti, or ravioli.\\n8. Cook the pasta in a large pot of boiling salted water for 2-4 minutes, or until al dente.\\n9. Drain the pasta and toss with your favorite sauce and toppings.\\n\\nEnjoy your homemade Italian pasta!\""
      ]
     },
     "execution_count": 9,
     "metadata": {},
     "output_type": "execute_result"
    }
   ],
   "source": [
    "from langchain.chat_models import ChatOpenAI\n",
    "from langchain.callbacks import StreamingStdOutCallbackHandler\n",
    "from langchain.globals import set_llm_cache, set_debug\n",
    "from langchain.cache import InMemoryCache, SQLiteCache\n",
    "\n",
    "set_llm_cache(SQLiteCache(\"cache.db\"))\n",
    "set_debug(True)\n",
    "\n",
    "chat = ChatOpenAI(\n",
    "    model=\"gpt-3.5-turbo-1106\",\n",
    "    temperature=0.1,\n",
    "    # streaming=True,\n",
    "    # callbacks=[\n",
    "    #     StreamingStdOutCallbackHandler(),\n",
    "    # ],\n",
    ")\n",
    "\n",
    "chat.predict(\"How do you make italian pasta\")"
   ]
  },
  {
   "cell_type": "code",
   "execution_count": 8,
   "metadata": {},
   "outputs": [
    {
     "data": {
      "text/plain": [
       "'1. Boil a large pot of water and add a generous amount of salt.\\n2. Add the pasta to the boiling water and cook according to the package instructions, usually around 8-12 minutes for dried pasta or 2-4 minutes for fresh pasta.\\n3. While the pasta is cooking, prepare the sauce. For a classic Italian pasta dish, you can make a simple tomato sauce by sautéing garlic and onions in olive oil, then adding canned tomatoes, salt, pepper, and any desired herbs such as basil or oregano.\\n4. Once the pasta is al dente (firm to the bite), drain it and add it to the sauce. Toss to coat the pasta evenly with the sauce.\\n5. Serve the pasta in individual bowls and garnish with freshly grated Parmesan cheese and a drizzle of extra virgin olive oil.\\n6. Enjoy your delicious Italian pasta!'"
      ]
     },
     "execution_count": 8,
     "metadata": {},
     "output_type": "execute_result"
    }
   ],
   "source": [
    "chat.predict(\"How do you make italian pasta\")"
   ]
  }
 ],
 "metadata": {
  "kernelspec": {
   "display_name": "env",
   "language": "python",
   "name": "python3"
  },
  "language_info": {
   "codemirror_mode": {
    "name": "ipython",
    "version": 3
   },
   "file_extension": ".py",
   "mimetype": "text/x-python",
   "name": "python",
   "nbconvert_exporter": "python",
   "pygments_lexer": "ipython3",
   "version": "3.11.5"
  }
 },
 "nbformat": 4,
 "nbformat_minor": 2
}
